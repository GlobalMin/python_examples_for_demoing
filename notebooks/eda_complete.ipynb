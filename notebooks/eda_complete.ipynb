{
 "cells": [
  {
   "cell_type": "markdown",
   "metadata": {},
   "source": [
    "# Exploratory Data Analysis(EDA): Data Science Project (part IV)\n",
    "\n"
   ]
  },
  {
   "cell_type": "markdown",
   "metadata": {},
   "source": [
    "#### 3) Create a python script to extract relevant data from multiple data sources, automating the process of data ingestion."
   ]
  },
  {
   "cell_type": "code",
   "execution_count": null,
   "metadata": {},
   "outputs": [],
   "source": [
    "from datetime import datetime\n",
    "from datetime import timedelta\n",
    "import matplotlib.pyplot as plt\n",
    "import numpy as np\n",
    "import pandas as pd\n",
    "import plotly.graph_objs as go\n",
    "import plotly.offline as pyoff\n",
    "import seaborn as sns\n",
    "\n",
    "\n",
    "%matplotlib inline\n",
    "\n",
    "\n",
    "pyoff.init_notebook_mode()"
   ]
  },
  {
   "cell_type": "markdown",
   "metadata": {},
   "source": [
    "##### Data Ingestion and Preprocessing\n",
    "\n",
    "In order to leverage data to solve the business problem at hand, it is first required to be understood. The excel file is read in order to know the informations that are available in the data. "
   ]
  },
  {
   "cell_type": "code",
   "execution_count": null,
   "metadata": {},
   "outputs": [],
   "source": [
    "df = pd.read_excel(\"online_retail.xlsx\")\n",
    "df.head()"
   ]
  },
  {
   "cell_type": "markdown",
   "metadata": {},
   "source": [
    "The various features availabe in the data are \"InvoiceNo\", \"StockCode\", \"Description\", \"Quantity\", \"InvoiceDate\", \"UnitPrice\" and \"Country\" alongwith a unique CustomerID."
   ]
  },
  {
   "cell_type": "markdown",
   "metadata": {},
   "source": [
    "Let's begin by describing our data first"
   ]
  },
  {
   "cell_type": "code",
   "execution_count": null,
   "metadata": {},
   "outputs": [],
   "source": [
    "df.describe()"
   ]
  },
  {
   "cell_type": "code",
   "execution_count": null,
   "metadata": {},
   "outputs": [],
   "source": [
    "df.shape"
   ]
  },
  {
   "cell_type": "markdown",
   "metadata": {},
   "source": [
    "Revenue (monthly) = Monthly Invoice Count * Quantity * Unit Price"
   ]
  },
  {
   "cell_type": "code",
   "execution_count": null,
   "metadata": {},
   "outputs": [],
   "source": [
    "df[\"InvoiceYearMonth\"] = df[\"InvoiceDate\"].map(\n",
    "    lambda date: 100 * date.year + date.month\n",
    ")\n",
    "\n",
    "df[\"Revenue\"] = df[\"Quantity\"] * df[\"UnitPrice\"]\n",
    "df_revenue = df.groupby([\"InvoiceYearMonth\"]).agg({\"Revenue\": sum}).reset_index()\n",
    "df_revenue"
   ]
  },
  {
   "cell_type": "markdown",
   "metadata": {},
   "source": [
    "#### 4) Investigate the relationship between the relevant data, the target and the business metric."
   ]
  },
  {
   "cell_type": "markdown",
   "metadata": {},
   "source": [
    "#### Exploratory Data Analysis\n",
    "\n",
    "It is during the Exploratory Data Analysis (EDA) process that data integrity issues are identified sometimes.\n",
    "\n",
    "After extracting data it is important to include checks for quality assurance even on the first pass through the AI workflow.  Let's combine the data into a single structure and provide a couple checks for quality assurance.\n",
    "\n",
    "**Implementation of checks for Quality Assurance**\n",
    "\n",
    "- Remove any repeat customers based on customer_id\n",
    "- Check for missing values"
   ]
  },
  {
   "cell_type": "code",
   "execution_count": null,
   "metadata": {},
   "outputs": [],
   "source": [
    "print(\"\\nCleaning Summary\\n{}\".format(\"-\" * 35))\n",
    "print(\"Total records:\", df.shape[0])\n",
    "duplicate_rows = df.duplicated()\n",
    "if True in duplicate_rows:\n",
    "    df = df[~duplicate_rows]\n",
    "print(f\"Removed {np.where(duplicate_rows == True)[0].size} duplicate rows\")\n",
    "\n",
    "print(\"\\nMissing Value Summary\\n{}\".format(\"-\" * 35))\n",
    "print(\"\\ndf_total\\n{}\".format(\"-\" * 15))\n",
    "print(df.isnull().sum(axis=0))"
   ]
  },
  {
   "cell_type": "markdown",
   "metadata": {},
   "source": [
    "##### Visualizing monthly revenue"
   ]
  },
  {
   "cell_type": "code",
   "execution_count": null,
   "metadata": {},
   "outputs": [],
   "source": [
    "plot_rev(df_revenue, \"InvoiceYearMonth\", \"Revenue\", \"category\", \"Montly Revenue\")"
   ]
  },
  {
   "cell_type": "markdown",
   "metadata": {},
   "source": [
    "##### Monthly growth rate"
   ]
  },
  {
   "cell_type": "code",
   "execution_count": null,
   "metadata": {},
   "outputs": [],
   "source": [
    "# using pct_change() function to see monthly percentage change\n",
    "df_revenue[\"MonthlyGrowth\"] = df_revenue[\"Revenue\"].pct_change()\n",
    "df_revenue.head()"
   ]
  },
  {
   "cell_type": "code",
   "execution_count": null,
   "metadata": {},
   "outputs": [],
   "source": [
    "x = df_revenue.query(\"InvoiceYearMonth < 201112\")[\"InvoiceYearMonth\"]\n",
    "y = df_revenue.query(\"InvoiceYearMonth < 201112\")[\"MonthlyGrowth\"]\n",
    "query_plot(x, y, \"category\", \"Monthly Growth Rate\")"
   ]
  },
  {
   "cell_type": "markdown",
   "metadata": {},
   "source": [
    "##### Creating monthly active customers dataframe for UK"
   ]
  },
  {
   "cell_type": "code",
   "execution_count": null,
   "metadata": {},
   "outputs": [],
   "source": [
    "df_uk = df.query(\"Country=='United Kingdom'\").reset_index(drop=True)"
   ]
  },
  {
   "cell_type": "code",
   "execution_count": null,
   "metadata": {},
   "outputs": [],
   "source": [
    "df_monthly_active = (\n",
    "    df_uk.groupby(\"InvoiceYearMonth\")[\"CustomerID\"].nunique().reset_index()\n",
    ")\n",
    "df_monthly_active"
   ]
  },
  {
   "cell_type": "code",
   "execution_count": null,
   "metadata": {},
   "outputs": [],
   "source": [
    "plot_rev(\n",
    "    df_monthly_active,\n",
    "    \"InvoiceYearMonth\",\n",
    "    \"CustomerID\",\n",
    "    \"category\",\n",
    "    \"Monthly Active Customers\",\n",
    "    go.Bar,\n",
    ")"
   ]
  },
  {
   "cell_type": "markdown",
   "metadata": {},
   "source": [
    "##### Visualizing Monthly orders"
   ]
  },
  {
   "cell_type": "code",
   "execution_count": null,
   "metadata": {},
   "outputs": [],
   "source": [
    "df_monthly_orders = df_uk.groupby(\"InvoiceYearMonth\")[\"Quantity\"].sum().reset_index()\n",
    "df_monthly_orders"
   ]
  },
  {
   "cell_type": "code",
   "execution_count": null,
   "metadata": {},
   "outputs": [],
   "source": [
    "plot_rev(\n",
    "    df_monthly_orders,\n",
    "    \"InvoiceYearMonth\",\n",
    "    \"Quantity\",\n",
    "    \"category\",\n",
    "    \"Monthly Orders\",\n",
    "    go.Bar,\n",
    ")"
   ]
  },
  {
   "cell_type": "markdown",
   "metadata": {},
   "source": [
    "##### Average Revenue per Order"
   ]
  },
  {
   "cell_type": "code",
   "execution_count": null,
   "metadata": {},
   "outputs": [],
   "source": [
    "df_monthly_revenue = df_uk.groupby(\"InvoiceYearMonth\")[\"Revenue\"].mean().reset_index()\n",
    "df_monthly_revenue"
   ]
  },
  {
   "cell_type": "code",
   "execution_count": null,
   "metadata": {},
   "outputs": [],
   "source": [
    "plot_rev(\n",
    "    df_monthly_revenue,\n",
    "    \"InvoiceYearMonth\",\n",
    "    \"Revenue\",\n",
    "    \"category\",\n",
    "    \"Monthly Orders\",\n",
    "    go.Bar,\n",
    ")"
   ]
  },
  {
   "cell_type": "code",
   "execution_count": null,
   "metadata": {},
   "outputs": [],
   "source": [
    "df_min_purchase = df_uk.groupby(\"CustomerID\")[\"InvoiceDate\"].min().reset_index()\n",
    "df_min_purchase.columns = [\"CustomerID\", \"MinPurchaseDate\"]\n",
    "df_min_purchase[\"MinPurchaseYearMonth\"] = df_min_purchase[\"MinPurchaseDate\"].map(\n",
    "    lambda date: 100 * date.year + date.month\n",
    ")\n",
    "df_min_purchase.head()"
   ]
  },
  {
   "cell_type": "code",
   "execution_count": null,
   "metadata": {},
   "outputs": [],
   "source": [
    "df_uk = pd.merge(df_uk, df_min_purchase, on=\"CustomerID\")\n",
    "df_uk.head()"
   ]
  },
  {
   "cell_type": "markdown",
   "metadata": {},
   "source": [
    "##### Comparing new vs Existing"
   ]
  },
  {
   "cell_type": "code",
   "execution_count": null,
   "metadata": {},
   "outputs": [],
   "source": [
    "df_uk[\"UserType\"] = \"New\"\n",
    "df_uk.loc[\n",
    "    df_uk[\"InvoiceYearMonth\"] > df_uk[\"MinPurchaseYearMonth\"], \"UserType\"\n",
    "] = \"Existing\""
   ]
  },
  {
   "cell_type": "code",
   "execution_count": null,
   "metadata": {},
   "outputs": [],
   "source": [
    "df_user_type_revenue = (\n",
    "    df_uk.groupby([\"InvoiceYearMonth\", \"UserType\"])[\"Revenue\"].sum().reset_index()\n",
    ")\n",
    "# remove december month due to incomplete data in that month\n",
    "df_user_type_revenue = df_user_type_revenue.query(\n",
    "    \"InvoiceYearMonth != 201012 and InvoiceYearMonth != 201112\"\n",
    ")\n",
    "df_user_type_revenue"
   ]
  },
  {
   "cell_type": "code",
   "execution_count": null,
   "metadata": {},
   "outputs": [],
   "source": [
    "x = df_user_type_revenue.query(\"UserType == 'Existing'\")[\"InvoiceYearMonth\"]\n",
    "y = df_user_type_revenue.query(\"UserType == 'Existing'\")[\"Revenue\"]\n",
    "query_plot(x, y, \"category\", \"New vs Existing\")"
   ]
  },
  {
   "cell_type": "markdown",
   "metadata": {},
   "source": [
    "##### New Customer Ratio"
   ]
  },
  {
   "cell_type": "code",
   "execution_count": null,
   "metadata": {},
   "outputs": [],
   "source": [
    "df_user_ratio = (\n",
    "    df_uk.query(\"UserType == 'New'\")\n",
    "    .groupby([\"InvoiceYearMonth\"])[\"CustomerID\"]\n",
    "    .nunique()\n",
    "    / df_uk.query(\"UserType == 'Existing'\")\n",
    "    .groupby([\"InvoiceYearMonth\"])[\"CustomerID\"]\n",
    "    .nunique()\n",
    ")\n",
    "df_user_ratio = df_user_ratio.reset_index()\n",
    "df_user_ratio = df_user_ratio.dropna()\n",
    "df_user_ratio"
   ]
  },
  {
   "cell_type": "code",
   "execution_count": null,
   "metadata": {},
   "outputs": [],
   "source": [
    "plot_data = [\n",
    "    go.Bar(\n",
    "        x=df_user_ratio.query(\"InvoiceYearMonth>201101 and InvoiceYearMonth<201112\")[\n",
    "            \"InvoiceYearMonth\"\n",
    "        ],\n",
    "        y=df_user_ratio.query(\"InvoiceYearMonth>201101 and InvoiceYearMonth<201112\")[\n",
    "            \"CustomerID\"\n",
    "        ],\n",
    "    )\n",
    "]\n",
    "\n",
    "plot_layout = go.Layout(xaxis={\"type\": \"category\"}, title=\"New Customer Ratio\")\n",
    "fig = go.Figure(data=plot_data, layout=plot_layout)\n",
    "pyoff.iplot(fig)"
   ]
  },
  {
   "cell_type": "markdown",
   "metadata": {},
   "source": [
    "##### Monthly Retention Rate"
   ]
  },
  {
   "cell_type": "markdown",
   "metadata": {},
   "source": [
    "Monthly Retention Rate = Retained Customers From Prev. Month/Active Customers Total"
   ]
  },
  {
   "cell_type": "code",
   "execution_count": null,
   "metadata": {},
   "outputs": [],
   "source": [
    "df_user_purchase = (\n",
    "    df_uk.groupby([\"CustomerID\", \"InvoiceYearMonth\"])[\"Revenue\"].sum().reset_index()\n",
    ")\n",
    "df_user_purchase"
   ]
  },
  {
   "cell_type": "code",
   "execution_count": null,
   "metadata": {},
   "outputs": [],
   "source": [
    "df_retention = pd.crosstab(\n",
    "    df_user_purchase[\"CustomerID\"], df_user_purchase[\"InvoiceYearMonth\"]\n",
    ").reset_index()\n",
    "df_retention.head()"
   ]
  },
  {
   "cell_type": "code",
   "execution_count": null,
   "metadata": {},
   "outputs": [],
   "source": [
    "months = df_retention.columns[2:]\n",
    "months"
   ]
  },
  {
   "cell_type": "code",
   "execution_count": null,
   "metadata": {},
   "outputs": [],
   "source": [
    "retention_array = []\n",
    "for i in range(len(months) - 1):\n",
    "    retention_data = {}\n",
    "    selected_month = months[i + 1]\n",
    "    prev_month = months[i]\n",
    "    retention_data[\"InvoiceYearMonth\"] = int(selected_month)\n",
    "    retention_data[\"TotalUserCount\"] = df_retention[selected_month].sum()\n",
    "    retention_data[\"RetainedUserCount\"] = df_retention[\n",
    "        (df_retention[selected_month] > 0) & (df_retention[prev_month] > 0)\n",
    "    ][selected_month].sum()\n",
    "    retention_array.append(retention_data)\n",
    "\n",
    "retention_array"
   ]
  },
  {
   "cell_type": "code",
   "execution_count": null,
   "metadata": {},
   "outputs": [],
   "source": [
    "df_retention = pd.DataFrame(retention_array)\n",
    "df_retention.head()"
   ]
  },
  {
   "cell_type": "code",
   "execution_count": null,
   "metadata": {},
   "outputs": [],
   "source": [
    "df_retention[\"RetentionRate\"] = (\n",
    "    df_retention[\"RetainedUserCount\"] / df_retention[\"TotalUserCount\"]\n",
    ")\n",
    "df_retention"
   ]
  },
  {
   "cell_type": "code",
   "execution_count": null,
   "metadata": {},
   "outputs": [],
   "source": [
    "plot_data = [\n",
    "    go.Scatter(\n",
    "        x=df_retention.query(\"InvoiceYearMonth<201112\")[\"InvoiceYearMonth\"],\n",
    "        y=df_retention.query(\"InvoiceYearMonth<201112\")[\"RetentionRate\"],\n",
    "        name=\"organic\",\n",
    "    )\n",
    "]\n",
    "\n",
    "plot_layout = go.Layout(xaxis={\"type\": \"category\"}, title=\"Monthly Retention Rate\")\n",
    "fig = go.Figure(data=plot_data, layout=plot_layout)\n",
    "pyoff.iplot(fig)"
   ]
  },
  {
   "cell_type": "markdown",
   "metadata": {},
   "source": [
    "##### Cohort Based Retention Rate"
   ]
  },
  {
   "cell_type": "code",
   "execution_count": null,
   "metadata": {},
   "outputs": [],
   "source": [
    "df_retention = pd.crosstab(\n",
    "    df_user_purchase[\"CustomerID\"], df_user_purchase[\"InvoiceYearMonth\"]\n",
    ").reset_index()\n",
    "\n",
    "new_column_names = [\"m_\" + str(column) for column in df_retention.columns]\n",
    "df_retention.columns = new_column_names"
   ]
  },
  {
   "cell_type": "code",
   "execution_count": null,
   "metadata": {},
   "outputs": [],
   "source": [
    "retention_array = []\n",
    "for i in range(len(months)):\n",
    "    retention_data = {}\n",
    "    selected_month = months[i]\n",
    "    prev_months = months[:i]\n",
    "    next_months = months[i + 1 :]\n",
    "    for prev_month in prev_months:\n",
    "        retention_data[prev_month] = np.nan\n",
    "\n",
    "    total_user_count = retention_data[\"TotalUserCount\"] = df_retention[\n",
    "        \"m_\" + str(selected_month)\n",
    "    ].sum()\n",
    "    retention_data[selected_month] = 1\n",
    "\n",
    "    query = \"{} > 0\".format(\"m_\" + str(selected_month))\n",
    "\n",
    "    for next_month in next_months:\n",
    "        query = query + \" and {} > 0\".format(str(\"m_\" + str(next_month)))\n",
    "        retention_data[next_month] = np.round(\n",
    "            df_retention.query(query)[\"m_\" + str(next_month)].sum() / total_user_count,\n",
    "            2,\n",
    "        )\n",
    "    retention_array.append(retention_data)\n",
    "\n",
    "df_retention = pd.DataFrame(retention_array)\n",
    "df_retention.index = months"
   ]
  },
  {
   "cell_type": "code",
   "execution_count": null,
   "metadata": {},
   "outputs": [],
   "source": [
    "df_retention"
   ]
  },
  {
   "cell_type": "code",
   "execution_count": null,
   "metadata": {},
   "outputs": [],
   "source": []
  }
 ],
 "metadata": {
  "kernelspec": {
   "display_name": "attrition",
   "language": "python",
   "name": "python3"
  },
  "language_info": {
   "codemirror_mode": {
    "name": "ipython",
    "version": 3
   },
   "file_extension": ".py",
   "mimetype": "text/x-python",
   "name": "python",
   "nbconvert_exporter": "python",
   "pygments_lexer": "ipython3",
   "version": "3.11.0 (main, Jan 26 2023, 00:12:14) [Clang 14.0.0 (clang-1400.0.29.202)]"
  },
  "vscode": {
   "interpreter": {
    "hash": "f7c8574558d915a4f03de4bb63c6acf8661c2f232be2bf8a943dfdd918fe4b7a"
   }
  }
 },
 "nbformat": 4,
 "nbformat_minor": 2
}
